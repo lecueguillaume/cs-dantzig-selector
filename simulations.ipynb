{
 "cells": [
  {
   "cell_type": "code",
   "execution_count": 1,
   "metadata": {
    "collapsed": true
   },
   "outputs": [],
   "source": [
    "import numpy as np"
   ]
  },
  {
   "cell_type": "code",
   "execution_count": 2,
   "metadata": {
    "collapsed": false
   },
   "outputs": [],
   "source": [
    "import matplotlib.pyplot as plt"
   ]
  },
  {
   "cell_type": "code",
   "execution_count": 33,
   "metadata": {
    "collapsed": false
   },
   "outputs": [],
   "source": [
    "from cvxpy import Minimize, norm1, Variable, norm, Problem, SCS"
   ]
  },
  {
   "cell_type": "code",
   "execution_count": null,
   "metadata": {
    "collapsed": true
   },
   "outputs": [],
   "source": []
  },
  {
   "cell_type": "code",
   "execution_count": 5,
   "metadata": {
    "collapsed": true
   },
   "outputs": [],
   "source": [
    "%matplotlib inline"
   ]
  },
  {
   "cell_type": "markdown",
   "metadata": {},
   "source": [
    "$$min_{\\tilde{\\beta} \\in \\mathbb{R}^p} \\vert \\vert \\tilde{\\beta} \\vert \\vert_{l_1}$$\n",
    "\n",
    "subject to \n",
    "\n",
    "$$ \\vert \\vert X^T r \\vert \\vert _{l\\infty}  \\leq (1+t^{-1}) \\sqrt{2 \\log p} \\cdot \\sigma$$"
   ]
  },
  {
   "cell_type": "code",
   "execution_count": null,
   "metadata": {
    "collapsed": true
   },
   "outputs": [],
   "source": [
    "X = M\n",
    "y = "
   ]
  },
  {
   "cell_type": "code",
   "execution_count": 222,
   "metadata": {
    "collapsed": false
   },
   "outputs": [],
   "source": [
    "def solve_experiment(X, y, noise_s, t):\n",
    "    n, p = X.shape\n",
    "    beta = Variable(p)\n",
    "    obj = Minimize(norm1(beta))\n",
    "    constraints = [norm(X.T * (y - X * beta), 'inf') <= (1 + 1/t) * np.sqrt(2 * np.log(p)) * noise_s]\n",
    "    prob = Problem(obj, constraints)\n",
    "    prob.solve(solver=SCS)\n",
    "    return np.array(beta.value).reshape(-1)"
   ]
  },
  {
   "cell_type": "code",
   "execution_count": 273,
   "metadata": {
    "collapsed": true
   },
   "outputs": [],
   "source": [
    "def create_experiment(n, p, X_s, beta_s, noise_s, S):\n",
    "    X = np.random.normal(0, X_s, n * p).reshape((n, p))\n",
    "    # renormalize the columns of X\n",
    "    X = X / np.sqrt((X**2).sum(axis=0))\n",
    "\n",
    "    # the real beta\n",
    "    beta_true = np.zeros(p)\n",
    "    random_indices = np.random.choice(range(p), replace=False, size=S)\n",
    "    beta_true[random_indices] = np.random.normal(0, 1, S)\n",
    "\n",
    "    noise = np.random.normal(0, 0.1, n)\n",
    "\n",
    "    y = X.dot(beta_true) + noise\n",
    "    return X, y, beta_true"
   ]
  },
  {
   "cell_type": "markdown",
   "metadata": {},
   "source": [
    "## two stage solving"
   ]
  },
  {
   "cell_type": "code",
   "execution_count": 360,
   "metadata": {
    "collapsed": true
   },
   "outputs": [],
   "source": [
    "def two_stage_solve(X, beta, noise_s, alpha=1e-1):\n",
    "    indices = np.abs(beta) > alpha * noise_s\n",
    "    X_i = X[:, indices]\n",
    "    beta_i = np.linalg.solve(X_i.T.dot(X_i), X_i.T.dot(y))\n",
    "    beta = np.zeros(X.shape[1])\n",
    "    beta[indices] = beta_i\n",
    "    return beta"
   ]
  },
  {
   "cell_type": "code",
   "execution_count": 350,
   "metadata": {
    "collapsed": true
   },
   "outputs": [],
   "source": [
    "def plot_exp(beta_true, beta, beta_two=None):\n",
    "    if beta_two is not None:\n",
    "        plt.plot(range(p), beta_true, \"o\", range(p), beta, \"+\", range(p), beta_two, '+')\n",
    "    else:\n",
    "        plt.plot(range(p), beta_true, \"o\", range(p), beta, \"+\")"
   ]
  },
  {
   "cell_type": "code",
   "execution_count": 169,
   "metadata": {
    "collapsed": false
   },
   "outputs": [
    {
     "data": {
      "text/plain": [
       "(20, 100)"
      ]
     },
     "execution_count": 169,
     "metadata": {},
     "output_type": "execute_result"
    }
   ],
   "source": [
    "X.shape"
   ]
  },
  {
   "cell_type": "code",
   "execution_count": 170,
   "metadata": {
    "collapsed": false
   },
   "outputs": [
    {
     "data": {
      "text/plain": [
       "(20,)"
      ]
     },
     "execution_count": 170,
     "metadata": {},
     "output_type": "execute_result"
    }
   ],
   "source": [
    "y.shape"
   ]
  },
  {
   "cell_type": "code",
   "execution_count": null,
   "metadata": {
    "collapsed": true
   },
   "outputs": [],
   "source": []
  },
  {
   "cell_type": "code",
   "execution_count": 355,
   "metadata": {
    "collapsed": false
   },
   "outputs": [
    {
     "data": {
      "text/plain": [
       "0.11"
      ]
     },
     "execution_count": 355,
     "metadata": {},
     "output_type": "execute_result"
    }
   ],
   "source": [
    "n = 72\n",
    "p = 256\n",
    "X_s = 1\n",
    "beta_s = 1\n",
    "S = 8\n",
    "t = 1e-1\n",
    "noise_s = 0.33 * np.sqrt(S / n)\n",
    "alpha = 1e-1\n",
    "noise_s"
   ]
  },
  {
   "cell_type": "code",
   "execution_count": 369,
   "metadata": {
    "collapsed": false
   },
   "outputs": [],
   "source": [
    "X, y, beta_true = create_experiment(n, p, X_s, beta_s, noise_s, S)"
   ]
  },
  {
   "cell_type": "code",
   "execution_count": 370,
   "metadata": {
    "collapsed": true
   },
   "outputs": [],
   "source": [
    "beta = solve_experiment(X, y, noise_s, t=5)"
   ]
  },
  {
   "cell_type": "code",
   "execution_count": 371,
   "metadata": {
    "collapsed": true
   },
   "outputs": [],
   "source": [
    "beta_two = two_stage_solve(X, beta, noise_s)"
   ]
  },
  {
   "cell_type": "code",
   "execution_count": 372,
   "metadata": {
    "collapsed": false
   },
   "outputs": [
    {
     "data": {
      "image/png": "[encoded data removed]",
      "text/plain": [
       "<matplotlib.figure.Figure at 0x10f387940>"
      ]
     },
     "metadata": {},
     "output_type": "display_data"
    }
   ],
   "source": [
    "plot_exp(beta_true, beta, beta_two)"
   ]
  },
  {
   "cell_type": "code",
   "execution_count": null,
   "metadata": {
    "collapsed": true
   },
   "outputs": [],
   "source": [
    "# X is fixed\n",
    "# select a support set T of size |T | = S uniformly at random, and sample a vector β on\n",
    "# T with independent and identically distributed entries accor\n",
    "# βi = εi(1 + |ai|) where the sign εi = ±1 with probability 1/2, and ai ∼ N(0,1)\n",
    "# y ̃ = Xβ + z, with z ∼ N(0,σ2 In) and compute βˆ by means of the two-stage procedure\n",
    "# repeat 500 times for each S"
   ]
  },
  {
   "cell_type": "code",
   "execution_count": null,
   "metadata": {
    "collapsed": true
   },
   "outputs": [],
   "source": []
  },
  {
   "cell_type": "code",
   "execution_count": null,
   "metadata": {
    "collapsed": true
   },
   "outputs": [],
   "source": []
  },
  {
   "cell_type": "code",
   "execution_count": null,
   "metadata": {
    "collapsed": true
   },
   "outputs": [],
   "source": []
  },
  {
   "cell_type": "code",
   "execution_count": null,
   "metadata": {
    "collapsed": true
   },
   "outputs": [],
   "source": []
  },
  {
   "cell_type": "code",
   "execution_count": null,
   "metadata": {
    "collapsed": true
   },
   "outputs": [],
   "source": []
  },
  {
   "cell_type": "code",
   "execution_count": null,
   "metadata": {
    "collapsed": true
   },
   "outputs": [],
   "source": []
  }
 ],
 "metadata": {
  "kernelspec": {
   "display_name": "Python 3",
   "language": "python",
   "name": "python3"
  },
  "language_info": {
   "codemirror_mode": {
    "name": "ipython",
    "version": 3
   },
   "file_extension": ".py",
   "mimetype": "text/x-python",
   "name": "python",
   "nbconvert_exporter": "python",
   "pygments_lexer": "ipython3",
   "version": "3.5.2"
  }
 },
 "nbformat": 4,
 "nbformat_minor": 0
}
