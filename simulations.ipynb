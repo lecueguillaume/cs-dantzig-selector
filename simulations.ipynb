{
 "cells": [
  {
   "cell_type": "code",
   "execution_count": 1,
   "metadata": {
    "collapsed": true
   },
   "outputs": [],
   "source": [
    "import numpy as np\n",
    "import matplotlib.pyplot as plt\n",
    "from cvxpy import Minimize, norm1, Variable, norm, Problem, SCS\n",
    "%matplotlib inline"
   ]
  },
  {
   "cell_type": "markdown",
   "metadata": {},
   "source": [
    "$$min_{\\tilde{\\beta} \\in \\mathbb{R}^p} \\vert \\vert \\tilde{\\beta} \\vert \\vert_{l_1}$$\n",
    "\n",
    "subject to \n",
    "\n",
    "$$ \\vert \\vert X^T r \\vert \\vert _{l\\infty}  \\leq (1+t^{-1}) \\sqrt{2 \\log p} \\cdot \\sigma$$"
   ]
  },
  {
   "cell_type": "code",
   "execution_count": 5,
   "metadata": {
    "collapsed": true
   },
   "outputs": [],
   "source": [
    "def create_experiment(n, p, X_s, beta_s, noise_s, S):\n",
    "    X = np.random.normal(0, X_s, n * p).reshape((n, p))\n",
    "    # renormalize the columns of X\n",
    "    X = X / np.sqrt((X**2).sum(axis=0))\n",
    "\n",
    "    # the real beta\n",
    "    beta_true = np.zeros(p)\n",
    "    random_indices = np.random.choice(range(p), replace=False, size=S)\n",
    "    beta_true[random_indices] = np.random.normal(0, 1, S)\n",
    "\n",
    "    noise = np.random.normal(0, 0.1, n)\n",
    "\n",
    "    # compute y from X and beta, return true beta\n",
    "    y = X.dot(beta_true) + noise\n",
    "    return X, y, beta_true"
   ]
  },
  {
   "cell_type": "code",
   "execution_count": 6,
   "metadata": {
    "collapsed": false
   },
   "outputs": [],
   "source": [
    "def solve_experiment(X, y, noise_s, t):\n",
    "    # recover n and p from the shape of X\n",
    "    n, p = X.shape\n",
    "\n",
    "    # define and solve using cvxpy\n",
    "    beta = Variable(p)\n",
    "    obj = Minimize(norm1(beta))\n",
    "    constraints = [norm(X.T * (y - X * beta), 'inf') <= (1 + 1/t) * np.sqrt(2 * np.log(p)) * noise_s]\n",
    "    prob = Problem(obj, constraints)\n",
    "    prob.solve(solver=SCS)\n",
    "    return np.array(beta.value).reshape(-1)"
   ]
  },
  {
   "cell_type": "markdown",
   "metadata": {},
   "source": [
    "## two stage solving"
   ]
  },
  {
   "cell_type": "code",
   "execution_count": 7,
   "metadata": {
    "collapsed": true
   },
   "outputs": [],
   "source": [
    "def two_stage_solve(X, beta, noise_s, alpha=1e-1):\n",
    "    # use beta only to find the right indices\n",
    "    indices = np.abs(beta) > alpha * noise_s\n",
    "    X_i = X[:, indices]\n",
    "    \n",
    "    # get the true solution on beta_I, the rest are zeros\n",
    "    beta_i = np.linalg.solve(X_i.T.dot(X_i), X_i.T.dot(y))\n",
    "    beta = np.zeros(X.shape[1])\n",
    "    beta[indices] = beta_i\n",
    "    return beta"
   ]
  },
  {
   "cell_type": "code",
   "execution_count": 8,
   "metadata": {
    "collapsed": true
   },
   "outputs": [],
   "source": [
    "def plot_exp(beta_true, beta, beta_two=None):\n",
    "    \"\"\"Plot an experiment\"\"\"\n",
    "    if beta_two is not None:\n",
    "        plt.plot(range(p), beta_true, \"o\", range(p), beta, \"+\", range(p), beta_two, '+')\n",
    "    else:\n",
    "        plt.plot(range(p), beta_true, \"o\", range(p), beta, \"+\")"
   ]
  },
  {
   "cell_type": "markdown",
   "metadata": {},
   "source": [
    "### compute errors"
   ]
  },
  {
   "cell_type": "code",
   "execution_count": 39,
   "metadata": {
    "collapsed": true
   },
   "outputs": [],
   "source": [
    "def error_ratio(beta, beta_true, noise_s):\n",
    "    true_error = ((beta - beta_true)**2).sum()\n",
    "    min_beta_noise = beta.copy()\n",
    "    min_beta_noise[np.abs(beta) < noise_s] = noise_s\n",
    "    ideal_error = (min_beta_noise**2).sum()\n",
    "    return ideal_error / true_error"
   ]
  },
  {
   "cell_type": "code",
   "execution_count": null,
   "metadata": {
    "collapsed": true
   },
   "outputs": [],
   "source": []
  },
  {
   "cell_type": "code",
   "execution_count": null,
   "metadata": {
    "collapsed": true
   },
   "outputs": [],
   "source": []
  },
  {
   "cell_type": "code",
   "execution_count": 9,
   "metadata": {
    "collapsed": false
   },
   "outputs": [
    {
     "data": {
      "text/plain": [
       "0.066000000000000003"
      ]
     },
     "execution_count": 9,
     "metadata": {},
     "output_type": "execute_result"
    }
   ],
   "source": [
    "n = 72\n",
    "p = 256\n",
    "X_s = 1\n",
    "beta_s = 1\n",
    "S = 8\n",
    "t = 1e-1\n",
    "noise_s = 0.33 * np.sqrt(S / n)\n",
    "alpha = 1e-1\n",
    "noise_s"
   ]
  },
  {
   "cell_type": "code",
   "execution_count": null,
   "metadata": {
    "collapsed": true
   },
   "outputs": [],
   "source": []
  },
  {
   "cell_type": "code",
   "execution_count": 10,
   "metadata": {
    "collapsed": false
   },
   "outputs": [],
   "source": [
    "X, y, beta_true = create_experiment(n, p, X_s, beta_s, noise_s, S)\n",
    "beta = solve_experiment(X, y, noise_s, t=5)\n",
    "beta_two = two_stage_solve(X, beta, noise_s, alpha)"
   ]
  },
  {
   "cell_type": "code",
   "execution_count": 13,
   "metadata": {
    "collapsed": false
   },
   "outputs": [
    {
     "data": {
      "image/png": "[encoded data removed]",
      "text/plain": [
       "<matplotlib.figure.Figure at 0x10c2acd68>"
      ]
     },
     "metadata": {},
     "output_type": "display_data"
    }
   ],
   "source": [
    "plot_exp(beta_true, beta, beta_two)"
   ]
  },
  {
   "cell_type": "markdown",
   "metadata": {},
   "source": [
    "### run 10 experiments"
   ]
  },
  {
   "cell_type": "code",
   "execution_count": 29,
   "metadata": {
    "collapsed": true
   },
   "outputs": [],
   "source": [
    "import time"
   ]
  },
  {
   "cell_type": "code",
   "execution_count": 31,
   "metadata": {
    "collapsed": false
   },
   "outputs": [],
   "source": [
    "t = time.time()"
   ]
  },
  {
   "cell_type": "code",
   "execution_count": 34,
   "metadata": {
    "collapsed": false
   },
   "outputs": [
    {
     "data": {
      "text/plain": [
       "24.291521072387695"
      ]
     },
     "execution_count": 34,
     "metadata": {},
     "output_type": "execute_result"
    }
   ],
   "source": [
    "time.time() - t"
   ]
  },
  {
   "cell_type": "code",
   "execution_count": null,
   "metadata": {
    "collapsed": true
   },
   "outputs": [],
   "source": []
  },
  {
   "cell_type": "code",
   "execution_count": null,
   "metadata": {
    "collapsed": false
   },
   "outputs": [
    {
     "name": "stdout",
     "output_type": "stream",
     "text": [
      "ratio=16.912208446853356 in 260.0478820800781 seconds\n",
      "ratio=19.43693738911309 in 299.47651505470276 seconds\n",
      "ratio=17.331328106471535 in 173.46966791152954 seconds\n"
     ]
    }
   ],
   "source": [
    "ratios = []\n",
    "for i in range(10):\n",
    "    t = time.time()\n",
    "    X, y, beta_true = create_experiment(n, p, X_s, beta_s, noise_s, S)\n",
    "    beta = solve_experiment(X, y, noise_s, t=5)\n",
    "    beta_two = two_stage_solve(X, beta, noise_s, alpha)\n",
    "    ratio = error_ratio(beta, beta_true, noise_s)\n",
    "    print(\"ratio={} in {} seconds\".format(ratio, time.time() - t))\n",
    "    ratios.append(ratio)"
   ]
  },
  {
   "cell_type": "code",
   "execution_count": null,
   "metadata": {
    "collapsed": true
   },
   "outputs": [],
   "source": [
    "# X is fixed\n",
    "# select a support set T of size |T | = S uniformly at random, and sample a vector β on\n",
    "# T with independent and identically distributed entries accor\n",
    "# βi = εi(1 + |ai|) where the sign εi = ±1 with probability 1/2, and ai ∼ N(0,1)\n",
    "# y ̃ = Xβ + z, with z ∼ N(0,σ2 In) and compute βˆ by means of the two-stage procedure\n",
    "# repeat 500 times for each S"
   ]
  },
  {
   "cell_type": "code",
   "execution_count": null,
   "metadata": {
    "collapsed": true
   },
   "outputs": [],
   "source": []
  },
  {
   "cell_type": "code",
   "execution_count": null,
   "metadata": {
    "collapsed": true
   },
   "outputs": [],
   "source": []
  },
  {
   "cell_type": "code",
   "execution_count": null,
   "metadata": {
    "collapsed": true
   },
   "outputs": [],
   "source": []
  },
  {
   "cell_type": "code",
   "execution_count": null,
   "metadata": {
    "collapsed": true
   },
   "outputs": [],
   "source": []
  },
  {
   "cell_type": "code",
   "execution_count": null,
   "metadata": {
    "collapsed": true
   },
   "outputs": [],
   "source": []
  },
  {
   "cell_type": "code",
   "execution_count": null,
   "metadata": {
    "collapsed": true
   },
   "outputs": [],
   "source": []
  }
 ],
 "metadata": {
  "kernelspec": {
   "display_name": "Python 3",
   "language": "python",
   "name": "python3"
  },
  "language_info": {
   "codemirror_mode": {
    "name": "ipython",
    "version": 3
   },
   "file_extension": ".py",
   "mimetype": "text/x-python",
   "name": "python",
   "nbconvert_exporter": "python",
   "pygments_lexer": "ipython3",
   "version": "3.5.2"
  }
 },
 "nbformat": 4,
 "nbformat_minor": 0
}
